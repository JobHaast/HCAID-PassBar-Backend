{
 "cells": [
  {
   "cell_type": "code",
   "execution_count": 1,
   "id": "90997bb5",
   "metadata": {
    "execution": {
     "iopub.execute_input": "2022-09-23T12:40:59.958362Z",
     "iopub.status.busy": "2022-09-23T12:40:59.957988Z",
     "iopub.status.idle": "2022-09-23T12:40:59.962550Z",
     "shell.execute_reply": "2022-09-23T12:40:59.961316Z"
    },
    "papermill": {
     "duration": 0.016792,
     "end_time": "2022-09-23T12:40:59.964826",
     "exception": false,
     "start_time": "2022-09-23T12:40:59.948034",
     "status": "completed"
    },
    "tags": []
   },
   "outputs": [],
   "source": [
    "import pandas as pd\n",
    "import numpy as np"
   ]
  },
  {
   "cell_type": "code",
   "execution_count": 2,
   "id": "d8dec874",
   "metadata": {
    "execution": {
     "iopub.execute_input": "2022-09-23T12:40:59.983892Z",
     "iopub.status.busy": "2022-09-23T12:40:59.983473Z",
     "iopub.status.idle": "2022-09-23T12:41:00.031619Z",
     "shell.execute_reply": "2022-09-23T12:41:00.030286Z"
    },
    "papermill": {
     "duration": 0.06139,
     "end_time": "2022-09-23T12:41:00.034757",
     "exception": false,
     "start_time": "2022-09-23T12:40:59.973367",
     "status": "completed"
    },
    "tags": []
   },
   "outputs": [
    {
     "data": {
      "text/plain": "            Timestamp  Gender Your study year  \\\n0  7/19/2022 12:26:34  Female               4   \n1   7/21/2022 2:19:26    Male   Post Graduate   \n2  7/21/2022 18:55:02    Male               3   \n3  8/22/2022 10:01:30  Female               3   \n4  8/22/2022 10:02:05    Male               2   \n\n                   Which department  How many electronic devices do you use?  \\\n0            Information Technology                                        2   \n1               Business Management                                        4   \n2            Information Technology                                        3   \n3                       Engineering                                        3   \n4  Architecture & Built Environment                                        2   \n\n  What is your recent latest CGPA ? Is there an increase in your CGPA?  \\\n0                         3.00-3.49                           Increase   \n1                         3.00-3.49                           decrease   \n2                       3.50 - 3.99                           Increase   \n3                         2.50-2.99                           decrease   \n4                         3.00-3.49                           Increase   \n\n  Average hour you spent using electronic devices for academic purposes in a day (hours).  \\\n0                                                4-6                                        \n1                                                1-3                                        \n2                                                4-6                                        \n3                                                1-3                                        \n4                                                4-6                                        \n\n           What is the purpose of buying the device?  \n0                 Studies, Entertainment, Phone call  \n1  Studies, Entertainment, Online class, games, M...  \n2   Studies, Entertainment, Online class, Phone call  \n3  Studies, Entertainment, Online class, games, M...  \n4                             Studies, Entertainment  ",
      "text/html": "<div>\n<style scoped>\n    .dataframe tbody tr th:only-of-type {\n        vertical-align: middle;\n    }\n\n    .dataframe tbody tr th {\n        vertical-align: top;\n    }\n\n    .dataframe thead th {\n        text-align: right;\n    }\n</style>\n<table border=\"1\" class=\"dataframe\">\n  <thead>\n    <tr style=\"text-align: right;\">\n      <th></th>\n      <th>Timestamp</th>\n      <th>Gender</th>\n      <th>Your study year</th>\n      <th>Which department</th>\n      <th>How many electronic devices do you use?</th>\n      <th>What is your recent latest CGPA ?</th>\n      <th>Is there an increase in your CGPA?</th>\n      <th>Average hour you spent using electronic devices for academic purposes in a day (hours).</th>\n      <th>What is the purpose of buying the device?</th>\n    </tr>\n  </thead>\n  <tbody>\n    <tr>\n      <th>0</th>\n      <td>7/19/2022 12:26:34</td>\n      <td>Female</td>\n      <td>4</td>\n      <td>Information Technology</td>\n      <td>2</td>\n      <td>3.00-3.49</td>\n      <td>Increase</td>\n      <td>4-6</td>\n      <td>Studies, Entertainment, Phone call</td>\n    </tr>\n    <tr>\n      <th>1</th>\n      <td>7/21/2022 2:19:26</td>\n      <td>Male</td>\n      <td>Post Graduate</td>\n      <td>Business Management</td>\n      <td>4</td>\n      <td>3.00-3.49</td>\n      <td>decrease</td>\n      <td>1-3</td>\n      <td>Studies, Entertainment, Online class, games, M...</td>\n    </tr>\n    <tr>\n      <th>2</th>\n      <td>7/21/2022 18:55:02</td>\n      <td>Male</td>\n      <td>3</td>\n      <td>Information Technology</td>\n      <td>3</td>\n      <td>3.50 - 3.99</td>\n      <td>Increase</td>\n      <td>4-6</td>\n      <td>Studies, Entertainment, Online class, Phone call</td>\n    </tr>\n    <tr>\n      <th>3</th>\n      <td>8/22/2022 10:01:30</td>\n      <td>Female</td>\n      <td>3</td>\n      <td>Engineering</td>\n      <td>3</td>\n      <td>2.50-2.99</td>\n      <td>decrease</td>\n      <td>1-3</td>\n      <td>Studies, Entertainment, Online class, games, M...</td>\n    </tr>\n    <tr>\n      <th>4</th>\n      <td>8/22/2022 10:02:05</td>\n      <td>Male</td>\n      <td>2</td>\n      <td>Architecture &amp; Built Environment</td>\n      <td>2</td>\n      <td>3.00-3.49</td>\n      <td>Increase</td>\n      <td>4-6</td>\n      <td>Studies, Entertainment</td>\n    </tr>\n  </tbody>\n</table>\n</div>"
     },
     "execution_count": 2,
     "metadata": {},
     "output_type": "execute_result"
    }
   ],
   "source": [
    "data = pd.read_csv('The Impact of Electronic Gadget Uses with Academic Performance among University Students (Responses) - Form Responses 1.csv')\n",
    "data.head()"
   ]
  },
  {
   "cell_type": "code",
   "execution_count": 3,
   "id": "1847c076",
   "metadata": {
    "execution": {
     "iopub.execute_input": "2022-09-23T12:41:00.055127Z",
     "iopub.status.busy": "2022-09-23T12:41:00.054736Z",
     "iopub.status.idle": "2022-09-23T12:41:00.085906Z",
     "shell.execute_reply": "2022-09-23T12:41:00.084618Z"
    },
    "papermill": {
     "duration": 0.044167,
     "end_time": "2022-09-23T12:41:00.088570",
     "exception": false,
     "start_time": "2022-09-23T12:41:00.044403",
     "status": "completed"
    },
    "tags": []
   },
   "outputs": [
    {
     "name": "stderr",
     "output_type": "stream",
     "text": [
      "C:\\Users\\jobha\\anaconda3\\envs\\ztdl\\lib\\site-packages\\pandas\\core\\indexing.py:1637: SettingWithCopyWarning: \n",
      "A value is trying to be set on a copy of a slice from a DataFrame\n",
      "\n",
      "See the caveats in the documentation: https://pandas.pydata.org/pandas-docs/stable/user_guide/indexing.html#returning-a-view-versus-a-copy\n",
      "  self._setitem_single_block(indexer, value, name)\n"
     ]
    }
   ],
   "source": [
    "from datetime import datetime\n",
    "import time\n",
    "for i in range(len(data[\"Timestamp\"])):\n",
    "    data[\"Timestamp\"].loc[i]\n",
    "    date=time.mktime(datetime.strptime(data[\"Timestamp\"].loc[i], \"%m/%d/%Y %H:%M:%S\").timetuple())\n",
    "    data[\"Timestamp\"].loc[i]=date\n"
   ]
  },
  {
   "cell_type": "code",
   "execution_count": 4,
   "id": "51e28b9f",
   "metadata": {
    "execution": {
     "iopub.execute_input": "2022-09-23T12:41:00.108060Z",
     "iopub.status.busy": "2022-09-23T12:41:00.107634Z",
     "iopub.status.idle": "2022-09-23T12:41:00.124002Z",
     "shell.execute_reply": "2022-09-23T12:41:00.122963Z"
    },
    "papermill": {
     "duration": 0.028894,
     "end_time": "2022-09-23T12:41:00.126409",
     "exception": false,
     "start_time": "2022-09-23T12:41:00.097515",
     "status": "completed"
    },
    "tags": []
   },
   "outputs": [
    {
     "data": {
      "text/plain": "      Timestamp  Gender Your study year                  Which department  \\\n0  1658226394.0  Female               4            Information Technology   \n1  1658362766.0    Male   Post Graduate               Business Management   \n2  1658422502.0    Male               3            Information Technology   \n3  1661155290.0  Female               3                       Engineering   \n4  1661155325.0    Male               2  Architecture & Built Environment   \n\n   How many electronic devices do you use? What is your recent latest CGPA ?  \\\n0                                        2                         3.00-3.49   \n1                                        4                         3.00-3.49   \n2                                        3                       3.50 - 3.99   \n3                                        3                         2.50-2.99   \n4                                        2                         3.00-3.49   \n\n  Is there an increase in your CGPA?  \\\n0                           Increase   \n1                           decrease   \n2                           Increase   \n3                           decrease   \n4                           Increase   \n\n  Average hour you spent using electronic devices for academic purposes in a day (hours).  \\\n0                                                4-6                                        \n1                                                1-3                                        \n2                                                4-6                                        \n3                                                1-3                                        \n4                                                4-6                                        \n\n           What is the purpose of buying the device?  \n0                 Studies, Entertainment, Phone call  \n1  Studies, Entertainment, Online class, games, M...  \n2   Studies, Entertainment, Online class, Phone call  \n3  Studies, Entertainment, Online class, games, M...  \n4                             Studies, Entertainment  ",
      "text/html": "<div>\n<style scoped>\n    .dataframe tbody tr th:only-of-type {\n        vertical-align: middle;\n    }\n\n    .dataframe tbody tr th {\n        vertical-align: top;\n    }\n\n    .dataframe thead th {\n        text-align: right;\n    }\n</style>\n<table border=\"1\" class=\"dataframe\">\n  <thead>\n    <tr style=\"text-align: right;\">\n      <th></th>\n      <th>Timestamp</th>\n      <th>Gender</th>\n      <th>Your study year</th>\n      <th>Which department</th>\n      <th>How many electronic devices do you use?</th>\n      <th>What is your recent latest CGPA ?</th>\n      <th>Is there an increase in your CGPA?</th>\n      <th>Average hour you spent using electronic devices for academic purposes in a day (hours).</th>\n      <th>What is the purpose of buying the device?</th>\n    </tr>\n  </thead>\n  <tbody>\n    <tr>\n      <th>0</th>\n      <td>1658226394.0</td>\n      <td>Female</td>\n      <td>4</td>\n      <td>Information Technology</td>\n      <td>2</td>\n      <td>3.00-3.49</td>\n      <td>Increase</td>\n      <td>4-6</td>\n      <td>Studies, Entertainment, Phone call</td>\n    </tr>\n    <tr>\n      <th>1</th>\n      <td>1658362766.0</td>\n      <td>Male</td>\n      <td>Post Graduate</td>\n      <td>Business Management</td>\n      <td>4</td>\n      <td>3.00-3.49</td>\n      <td>decrease</td>\n      <td>1-3</td>\n      <td>Studies, Entertainment, Online class, games, M...</td>\n    </tr>\n    <tr>\n      <th>2</th>\n      <td>1658422502.0</td>\n      <td>Male</td>\n      <td>3</td>\n      <td>Information Technology</td>\n      <td>3</td>\n      <td>3.50 - 3.99</td>\n      <td>Increase</td>\n      <td>4-6</td>\n      <td>Studies, Entertainment, Online class, Phone call</td>\n    </tr>\n    <tr>\n      <th>3</th>\n      <td>1661155290.0</td>\n      <td>Female</td>\n      <td>3</td>\n      <td>Engineering</td>\n      <td>3</td>\n      <td>2.50-2.99</td>\n      <td>decrease</td>\n      <td>1-3</td>\n      <td>Studies, Entertainment, Online class, games, M...</td>\n    </tr>\n    <tr>\n      <th>4</th>\n      <td>1661155325.0</td>\n      <td>Male</td>\n      <td>2</td>\n      <td>Architecture &amp; Built Environment</td>\n      <td>2</td>\n      <td>3.00-3.49</td>\n      <td>Increase</td>\n      <td>4-6</td>\n      <td>Studies, Entertainment</td>\n    </tr>\n  </tbody>\n</table>\n</div>"
     },
     "execution_count": 4,
     "metadata": {},
     "output_type": "execute_result"
    }
   ],
   "source": [
    "data.head()"
   ]
  },
  {
   "cell_type": "code",
   "execution_count": 5,
   "id": "48a8e59d",
   "metadata": {
    "execution": {
     "iopub.execute_input": "2022-09-23T12:41:00.166419Z",
     "iopub.status.busy": "2022-09-23T12:41:00.165968Z",
     "iopub.status.idle": "2022-09-23T12:41:00.176017Z",
     "shell.execute_reply": "2022-09-23T12:41:00.174786Z"
    },
    "papermill": {
     "duration": 0.023477,
     "end_time": "2022-09-23T12:41:00.178628",
     "exception": false,
     "start_time": "2022-09-23T12:41:00.155151",
     "status": "completed"
    },
    "tags": []
   },
   "outputs": [
    {
     "data": {
      "text/plain": "Timestamp                                                                                  0\nGender                                                                                     0\nYour study year                                                                            0\nWhich department                                                                           0\nHow many electronic devices do you use?                                                    0\nWhat is your recent latest CGPA ?                                                          0\nIs there an increase in your CGPA?                                                         0\nAverage hour you spent using electronic devices for academic purposes in a day (hours).    0\nWhat is the purpose of buying the device?                                                  0\ndtype: int64"
     },
     "execution_count": 5,
     "metadata": {},
     "output_type": "execute_result"
    }
   ],
   "source": [
    "data.isnull().sum()"
   ]
  },
  {
   "cell_type": "code",
   "execution_count": 6,
   "id": "b8f577ec",
   "metadata": {
    "execution": {
     "iopub.execute_input": "2022-09-23T12:41:00.199489Z",
     "iopub.status.busy": "2022-09-23T12:41:00.199090Z",
     "iopub.status.idle": "2022-09-23T12:41:01.362288Z",
     "shell.execute_reply": "2022-09-23T12:41:01.361166Z"
    },
    "papermill": {
     "duration": 1.176887,
     "end_time": "2022-09-23T12:41:01.365056",
     "exception": false,
     "start_time": "2022-09-23T12:41:00.188169",
     "status": "completed"
    },
    "tags": []
   },
   "outputs": [],
   "source": [
    "from sklearn.preprocessing import LabelEncoder\n",
    " \n",
    "\n",
    "En = LabelEncoder()\n",
    " \n",
    "\n",
    "Enco = En.fit_transform(data['Gender'])\n",
    "data.drop(\"Gender\", axis=1, inplace=True)\n",
    " \n",
    "\n",
    "data[\"Gender\"] = Enco"
   ]
  },
  {
   "cell_type": "code",
   "execution_count": 7,
   "id": "bf33a29a",
   "metadata": {
    "execution": {
     "iopub.execute_input": "2022-09-23T12:41:01.385527Z",
     "iopub.status.busy": "2022-09-23T12:41:01.385046Z",
     "iopub.status.idle": "2022-09-23T12:41:01.395430Z",
     "shell.execute_reply": "2022-09-23T12:41:01.394603Z"
    },
    "papermill": {
     "duration": 0.023261,
     "end_time": "2022-09-23T12:41:01.397668",
     "exception": false,
     "start_time": "2022-09-23T12:41:01.374407",
     "status": "completed"
    },
    "tags": []
   },
   "outputs": [
    {
     "data": {
      "text/plain": "4                8\n3                6\n1                6\n2                5\nPost Graduate    5\nName: Your study year, dtype: int64"
     },
     "execution_count": 7,
     "metadata": {},
     "output_type": "execute_result"
    }
   ],
   "source": [
    "data[\"Your study year\"].value_counts()"
   ]
  },
  {
   "cell_type": "code",
   "execution_count": 8,
   "id": "d0c56918",
   "metadata": {
    "execution": {
     "iopub.execute_input": "2022-09-23T12:41:01.419480Z",
     "iopub.status.busy": "2022-09-23T12:41:01.418755Z",
     "iopub.status.idle": "2022-09-23T12:41:01.424920Z",
     "shell.execute_reply": "2022-09-23T12:41:01.423759Z"
    },
    "papermill": {
     "duration": 0.019801,
     "end_time": "2022-09-23T12:41:01.427348",
     "exception": false,
     "start_time": "2022-09-23T12:41:01.407547",
     "status": "completed"
    },
    "tags": []
   },
   "outputs": [],
   "source": [
    "data[\"Your study year\"]=data[\"Your study year\"].str.replace(r\"Post Graduate\",\"4\")"
   ]
  },
  {
   "cell_type": "code",
   "execution_count": 9,
   "id": "2f6f8e52",
   "metadata": {
    "execution": {
     "iopub.execute_input": "2022-09-23T12:41:01.448168Z",
     "iopub.status.busy": "2022-09-23T12:41:01.447778Z",
     "iopub.status.idle": "2022-09-23T12:41:01.454851Z",
     "shell.execute_reply": "2022-09-23T12:41:01.453729Z"
    },
    "papermill": {
     "duration": 0.020246,
     "end_time": "2022-09-23T12:41:01.457051",
     "exception": false,
     "start_time": "2022-09-23T12:41:01.436805",
     "status": "completed"
    },
    "tags": []
   },
   "outputs": [
    {
     "data": {
      "text/plain": "dtype('O')"
     },
     "execution_count": 9,
     "metadata": {},
     "output_type": "execute_result"
    }
   ],
   "source": [
    "data[\"Your study year\"].dtypes"
   ]
  },
  {
   "cell_type": "code",
   "execution_count": 9,
   "id": "2470173c",
   "metadata": {
    "papermill": {
     "duration": 0.009318,
     "end_time": "2022-09-23T12:41:01.475875",
     "exception": false,
     "start_time": "2022-09-23T12:41:01.466557",
     "status": "completed"
    },
    "tags": []
   },
   "outputs": [],
   "source": []
  },
  {
   "cell_type": "code",
   "execution_count": 10,
   "id": "0d5bd624",
   "metadata": {
    "execution": {
     "iopub.execute_input": "2022-09-23T12:41:01.496534Z",
     "iopub.status.busy": "2022-09-23T12:41:01.496151Z",
     "iopub.status.idle": "2022-09-23T12:41:01.503859Z",
     "shell.execute_reply": "2022-09-23T12:41:01.502703Z"
    },
    "papermill": {
     "duration": 0.021102,
     "end_time": "2022-09-23T12:41:01.506354",
     "exception": false,
     "start_time": "2022-09-23T12:41:01.485252",
     "status": "completed"
    },
    "tags": []
   },
   "outputs": [],
   "source": [
    "from sklearn.preprocessing import LabelEncoder\n",
    " \n",
    "\n",
    "L = LabelEncoder()\n",
    " \n",
    "\n",
    "En = L.fit_transform(data['Which department'])\n",
    "data.drop(\"Which department\", axis=1, inplace=True)\n",
    " \n",
    "\n",
    "data[\"Which department\"] = En"
   ]
  },
  {
   "cell_type": "code",
   "execution_count": 11,
   "id": "f8f9d2b2",
   "metadata": {
    "execution": {
     "iopub.execute_input": "2022-09-23T12:41:01.527255Z",
     "iopub.status.busy": "2022-09-23T12:41:01.526854Z",
     "iopub.status.idle": "2022-09-23T12:41:01.542070Z",
     "shell.execute_reply": "2022-09-23T12:41:01.541063Z"
    },
    "papermill": {
     "duration": 0.028202,
     "end_time": "2022-09-23T12:41:01.544152",
     "exception": false,
     "start_time": "2022-09-23T12:41:01.515950",
     "status": "completed"
    },
    "tags": []
   },
   "outputs": [
    {
     "data": {
      "text/plain": "      Timestamp Your study year  How many electronic devices do you use?  \\\n0  1658226394.0               4                                        2   \n1  1658362766.0               4                                        4   \n2  1658422502.0               3                                        3   \n3  1661155290.0               3                                        3   \n4  1661155325.0               2                                        2   \n\n  What is your recent latest CGPA ? Is there an increase in your CGPA?  \\\n0                         3.00-3.49                           Increase   \n1                         3.00-3.49                           decrease   \n2                       3.50 - 3.99                           Increase   \n3                         2.50-2.99                           decrease   \n4                         3.00-3.49                           Increase   \n\n  Average hour you spent using electronic devices for academic purposes in a day (hours).  \\\n0                                                4-6                                        \n1                                                1-3                                        \n2                                                4-6                                        \n3                                                1-3                                        \n4                                                4-6                                        \n\n           What is the purpose of buying the device?  Gender  Which department  \n0                 Studies, Entertainment, Phone call       0                 7  \n1  Studies, Entertainment, Online class, games, M...       1                 2  \n2   Studies, Entertainment, Online class, Phone call       1                 7  \n3  Studies, Entertainment, Online class, games, M...       0                 5  \n4                             Studies, Entertainment       1                 1  ",
      "text/html": "<div>\n<style scoped>\n    .dataframe tbody tr th:only-of-type {\n        vertical-align: middle;\n    }\n\n    .dataframe tbody tr th {\n        vertical-align: top;\n    }\n\n    .dataframe thead th {\n        text-align: right;\n    }\n</style>\n<table border=\"1\" class=\"dataframe\">\n  <thead>\n    <tr style=\"text-align: right;\">\n      <th></th>\n      <th>Timestamp</th>\n      <th>Your study year</th>\n      <th>How many electronic devices do you use?</th>\n      <th>What is your recent latest CGPA ?</th>\n      <th>Is there an increase in your CGPA?</th>\n      <th>Average hour you spent using electronic devices for academic purposes in a day (hours).</th>\n      <th>What is the purpose of buying the device?</th>\n      <th>Gender</th>\n      <th>Which department</th>\n    </tr>\n  </thead>\n  <tbody>\n    <tr>\n      <th>0</th>\n      <td>1658226394.0</td>\n      <td>4</td>\n      <td>2</td>\n      <td>3.00-3.49</td>\n      <td>Increase</td>\n      <td>4-6</td>\n      <td>Studies, Entertainment, Phone call</td>\n      <td>0</td>\n      <td>7</td>\n    </tr>\n    <tr>\n      <th>1</th>\n      <td>1658362766.0</td>\n      <td>4</td>\n      <td>4</td>\n      <td>3.00-3.49</td>\n      <td>decrease</td>\n      <td>1-3</td>\n      <td>Studies, Entertainment, Online class, games, M...</td>\n      <td>1</td>\n      <td>2</td>\n    </tr>\n    <tr>\n      <th>2</th>\n      <td>1658422502.0</td>\n      <td>3</td>\n      <td>3</td>\n      <td>3.50 - 3.99</td>\n      <td>Increase</td>\n      <td>4-6</td>\n      <td>Studies, Entertainment, Online class, Phone call</td>\n      <td>1</td>\n      <td>7</td>\n    </tr>\n    <tr>\n      <th>3</th>\n      <td>1661155290.0</td>\n      <td>3</td>\n      <td>3</td>\n      <td>2.50-2.99</td>\n      <td>decrease</td>\n      <td>1-3</td>\n      <td>Studies, Entertainment, Online class, games, M...</td>\n      <td>0</td>\n      <td>5</td>\n    </tr>\n    <tr>\n      <th>4</th>\n      <td>1661155325.0</td>\n      <td>2</td>\n      <td>2</td>\n      <td>3.00-3.49</td>\n      <td>Increase</td>\n      <td>4-6</td>\n      <td>Studies, Entertainment</td>\n      <td>1</td>\n      <td>1</td>\n    </tr>\n  </tbody>\n</table>\n</div>"
     },
     "execution_count": 11,
     "metadata": {},
     "output_type": "execute_result"
    }
   ],
   "source": [
    "data.head()"
   ]
  },
  {
   "cell_type": "code",
   "execution_count": 12,
   "id": "2f304272",
   "metadata": {
    "execution": {
     "iopub.execute_input": "2022-09-23T12:41:01.565573Z",
     "iopub.status.busy": "2022-09-23T12:41:01.565130Z",
     "iopub.status.idle": "2022-09-23T12:41:01.575110Z",
     "shell.execute_reply": "2022-09-23T12:41:01.573946Z"
    },
    "papermill": {
     "duration": 0.023539,
     "end_time": "2022-09-23T12:41:01.577509",
     "exception": false,
     "start_time": "2022-09-23T12:41:01.553970",
     "status": "completed"
    },
    "tags": []
   },
   "outputs": [
    {
     "data": {
      "text/plain": "Increase    11\nNone        11\ndecrease     8\nName: Is there an increase in your CGPA?, dtype: int64"
     },
     "execution_count": 12,
     "metadata": {},
     "output_type": "execute_result"
    }
   ],
   "source": [
    "data[\"Is there an increase in your CGPA?\"].value_counts()"
   ]
  },
  {
   "cell_type": "code",
   "execution_count": 13,
   "id": "ca0a7ad3",
   "metadata": {
    "execution": {
     "iopub.execute_input": "2022-09-23T12:41:01.599938Z",
     "iopub.status.busy": "2022-09-23T12:41:01.599486Z",
     "iopub.status.idle": "2022-09-23T12:41:01.608350Z",
     "shell.execute_reply": "2022-09-23T12:41:01.607144Z"
    },
    "papermill": {
     "duration": 0.023238,
     "end_time": "2022-09-23T12:41:01.610750",
     "exception": false,
     "start_time": "2022-09-23T12:41:01.587512",
     "status": "completed"
    },
    "tags": []
   },
   "outputs": [],
   "source": [
    "data[\"Is there an increase in your CGPA?\"]=data[\"Is there an increase in your CGPA?\"].str.replace(r\"Increase\",\"1\")\n",
    "data[\"Is there an increase in your CGPA?\"]=data[\"Is there an increase in your CGPA?\"].str.replace(r\"decrease\",\"2\")\n",
    "data[\"Is there an increase in your CGPA?\"]=data[\"Is there an increase in your CGPA?\"].str.replace(r\"None\",\"0\")"
   ]
  },
  {
   "cell_type": "code",
   "execution_count": 14,
   "id": "22cc33cf",
   "metadata": {
    "execution": {
     "iopub.execute_input": "2022-09-23T12:41:01.632738Z",
     "iopub.status.busy": "2022-09-23T12:41:01.632269Z",
     "iopub.status.idle": "2022-09-23T12:41:01.641827Z",
     "shell.execute_reply": "2022-09-23T12:41:01.640583Z"
    },
    "papermill": {
     "duration": 0.023574,
     "end_time": "2022-09-23T12:41:01.644493",
     "exception": false,
     "start_time": "2022-09-23T12:41:01.620919",
     "status": "completed"
    },
    "tags": []
   },
   "outputs": [],
   "source": [
    "from sklearn.preprocessing import LabelEncoder\n",
    " \n",
    "\n",
    "Al = LabelEncoder()\n",
    " \n",
    "\n",
    "nun = Al.fit_transform(data['What is the purpose of buying the device?'])\n",
    "data.drop(\"What is the purpose of buying the device?\", axis=1, inplace=True)\n",
    " \n",
    "\n",
    "data[\"What is the purpose of buying the device?\"] = nun"
   ]
  },
  {
   "cell_type": "code",
   "execution_count": 15,
   "id": "ead2fe08",
   "metadata": {
    "execution": {
     "iopub.execute_input": "2022-09-23T12:41:01.666816Z",
     "iopub.status.busy": "2022-09-23T12:41:01.666373Z",
     "iopub.status.idle": "2022-09-23T12:41:01.681099Z",
     "shell.execute_reply": "2022-09-23T12:41:01.679880Z"
    },
    "papermill": {
     "duration": 0.028783,
     "end_time": "2022-09-23T12:41:01.683521",
     "exception": false,
     "start_time": "2022-09-23T12:41:01.654738",
     "status": "completed"
    },
    "tags": []
   },
   "outputs": [
    {
     "data": {
      "text/plain": "      Timestamp Your study year  How many electronic devices do you use?  \\\n0  1658226394.0               4                                        2   \n1  1658362766.0               4                                        4   \n2  1658422502.0               3                                        3   \n3  1661155290.0               3                                        3   \n4  1661155325.0               2                                        2   \n\n  What is your recent latest CGPA ? Is there an increase in your CGPA?  \\\n0                         3.00-3.49                                  1   \n1                         3.00-3.49                                  2   \n2                       3.50 - 3.99                                  1   \n3                         2.50-2.99                                  2   \n4                         3.00-3.49                                  1   \n\n  Average hour you spent using electronic devices for academic purposes in a day (hours).  \\\n0                                                4-6                                        \n1                                                1-3                                        \n2                                                4-6                                        \n3                                                1-3                                        \n4                                                4-6                                        \n\n   Gender  Which department  What is the purpose of buying the device?  \n0       0                 7                                          5  \n1       1                 2                                          4  \n2       1                 7                                          3  \n3       0                 5                                          4  \n4       1                 1                                          1  ",
      "text/html": "<div>\n<style scoped>\n    .dataframe tbody tr th:only-of-type {\n        vertical-align: middle;\n    }\n\n    .dataframe tbody tr th {\n        vertical-align: top;\n    }\n\n    .dataframe thead th {\n        text-align: right;\n    }\n</style>\n<table border=\"1\" class=\"dataframe\">\n  <thead>\n    <tr style=\"text-align: right;\">\n      <th></th>\n      <th>Timestamp</th>\n      <th>Your study year</th>\n      <th>How many electronic devices do you use?</th>\n      <th>What is your recent latest CGPA ?</th>\n      <th>Is there an increase in your CGPA?</th>\n      <th>Average hour you spent using electronic devices for academic purposes in a day (hours).</th>\n      <th>Gender</th>\n      <th>Which department</th>\n      <th>What is the purpose of buying the device?</th>\n    </tr>\n  </thead>\n  <tbody>\n    <tr>\n      <th>0</th>\n      <td>1658226394.0</td>\n      <td>4</td>\n      <td>2</td>\n      <td>3.00-3.49</td>\n      <td>1</td>\n      <td>4-6</td>\n      <td>0</td>\n      <td>7</td>\n      <td>5</td>\n    </tr>\n    <tr>\n      <th>1</th>\n      <td>1658362766.0</td>\n      <td>4</td>\n      <td>4</td>\n      <td>3.00-3.49</td>\n      <td>2</td>\n      <td>1-3</td>\n      <td>1</td>\n      <td>2</td>\n      <td>4</td>\n    </tr>\n    <tr>\n      <th>2</th>\n      <td>1658422502.0</td>\n      <td>3</td>\n      <td>3</td>\n      <td>3.50 - 3.99</td>\n      <td>1</td>\n      <td>4-6</td>\n      <td>1</td>\n      <td>7</td>\n      <td>3</td>\n    </tr>\n    <tr>\n      <th>3</th>\n      <td>1661155290.0</td>\n      <td>3</td>\n      <td>3</td>\n      <td>2.50-2.99</td>\n      <td>2</td>\n      <td>1-3</td>\n      <td>0</td>\n      <td>5</td>\n      <td>4</td>\n    </tr>\n    <tr>\n      <th>4</th>\n      <td>1661155325.0</td>\n      <td>2</td>\n      <td>2</td>\n      <td>3.00-3.49</td>\n      <td>1</td>\n      <td>4-6</td>\n      <td>1</td>\n      <td>1</td>\n      <td>1</td>\n    </tr>\n  </tbody>\n</table>\n</div>"
     },
     "execution_count": 15,
     "metadata": {},
     "output_type": "execute_result"
    }
   ],
   "source": [
    "data.head()"
   ]
  },
  {
   "cell_type": "code",
   "execution_count": 16,
   "id": "b9afc8bc",
   "metadata": {
    "execution": {
     "iopub.execute_input": "2022-09-23T12:41:01.706833Z",
     "iopub.status.busy": "2022-09-23T12:41:01.705724Z",
     "iopub.status.idle": "2022-09-23T12:41:01.715288Z",
     "shell.execute_reply": "2022-09-23T12:41:01.714053Z"
    },
    "papermill": {
     "duration": 0.024066,
     "end_time": "2022-09-23T12:41:01.717724",
     "exception": false,
     "start_time": "2022-09-23T12:41:01.693658",
     "status": "completed"
    },
    "tags": []
   },
   "outputs": [
    {
     "data": {
      "text/plain": "3.00-3.49      14\n3.50 - 3.99     9\n2.50-2.99       5\n2.00-2.49       2\nName: What is your recent latest CGPA ?, dtype: int64"
     },
     "execution_count": 16,
     "metadata": {},
     "output_type": "execute_result"
    }
   ],
   "source": [
    "data[\"What is your recent latest CGPA ?\"].value_counts()"
   ]
  },
  {
   "cell_type": "code",
   "execution_count": 17,
   "id": "324c3b5a",
   "metadata": {
    "execution": {
     "iopub.execute_input": "2022-09-23T12:41:01.740759Z",
     "iopub.status.busy": "2022-09-23T12:41:01.740337Z",
     "iopub.status.idle": "2022-09-23T12:41:01.751803Z",
     "shell.execute_reply": "2022-09-23T12:41:01.750421Z"
    },
    "papermill": {
     "duration": 0.026321,
     "end_time": "2022-09-23T12:41:01.754659",
     "exception": false,
     "start_time": "2022-09-23T12:41:01.728338",
     "status": "completed"
    },
    "tags": []
   },
   "outputs": [
    {
     "name": "stderr",
     "output_type": "stream",
     "text": [
      "C:\\Users\\jobha\\anaconda3\\envs\\ztdl\\lib\\site-packages\\ipykernel_launcher.py:1: FutureWarning: The default value of regex will change from True to False in a future version.\n",
      "  \"\"\"Entry point for launching an IPython kernel.\n",
      "C:\\Users\\jobha\\anaconda3\\envs\\ztdl\\lib\\site-packages\\ipykernel_launcher.py:2: FutureWarning: The default value of regex will change from True to False in a future version.\n",
      "  \n",
      "C:\\Users\\jobha\\anaconda3\\envs\\ztdl\\lib\\site-packages\\ipykernel_launcher.py:3: FutureWarning: The default value of regex will change from True to False in a future version.\n",
      "  This is separate from the ipykernel package so we can avoid doing imports until\n",
      "C:\\Users\\jobha\\anaconda3\\envs\\ztdl\\lib\\site-packages\\ipykernel_launcher.py:4: FutureWarning: The default value of regex will change from True to False in a future version.\n",
      "  after removing the cwd from sys.path.\n"
     ]
    }
   ],
   "source": [
    "data[\"What is your recent latest CGPA ?\"]=data[\"What is your recent latest CGPA ?\"].str.replace(r\"3.00-3.49\",\"1\")\n",
    "data[\"What is your recent latest CGPA ?\"]=data[\"What is your recent latest CGPA ?\"].str.replace(r\"3.50 - 3.99\",\"2\")\n",
    "data[\"What is your recent latest CGPA ?\"]=data[\"What is your recent latest CGPA ?\"].str.replace(r\"2.50-2.99\",\"3\")\n",
    "data[\"What is your recent latest CGPA ?\"]=data[\"What is your recent latest CGPA ?\"].str.replace(r\"2.00-2.49\",\"4\")"
   ]
  },
  {
   "cell_type": "code",
   "execution_count": 18,
   "id": "47bbacc5",
   "metadata": {
    "execution": {
     "iopub.execute_input": "2022-09-23T12:41:01.777683Z",
     "iopub.status.busy": "2022-09-23T12:41:01.777283Z",
     "iopub.status.idle": "2022-09-23T12:41:01.792412Z",
     "shell.execute_reply": "2022-09-23T12:41:01.791072Z"
    },
    "papermill": {
     "duration": 0.029426,
     "end_time": "2022-09-23T12:41:01.794850",
     "exception": false,
     "start_time": "2022-09-23T12:41:01.765424",
     "status": "completed"
    },
    "tags": []
   },
   "outputs": [
    {
     "data": {
      "text/plain": "      Timestamp Your study year  How many electronic devices do you use?  \\\n0  1658226394.0               4                                        2   \n1  1658362766.0               4                                        4   \n2  1658422502.0               3                                        3   \n3  1661155290.0               3                                        3   \n4  1661155325.0               2                                        2   \n\n  What is your recent latest CGPA ? Is there an increase in your CGPA?  \\\n0                                 1                                  1   \n1                                 1                                  2   \n2                                 2                                  1   \n3                                 3                                  2   \n4                                 1                                  1   \n\n  Average hour you spent using electronic devices for academic purposes in a day (hours).  \\\n0                                                4-6                                        \n1                                                1-3                                        \n2                                                4-6                                        \n3                                                1-3                                        \n4                                                4-6                                        \n\n   Gender  Which department  What is the purpose of buying the device?  \n0       0                 7                                          5  \n1       1                 2                                          4  \n2       1                 7                                          3  \n3       0                 5                                          4  \n4       1                 1                                          1  ",
      "text/html": "<div>\n<style scoped>\n    .dataframe tbody tr th:only-of-type {\n        vertical-align: middle;\n    }\n\n    .dataframe tbody tr th {\n        vertical-align: top;\n    }\n\n    .dataframe thead th {\n        text-align: right;\n    }\n</style>\n<table border=\"1\" class=\"dataframe\">\n  <thead>\n    <tr style=\"text-align: right;\">\n      <th></th>\n      <th>Timestamp</th>\n      <th>Your study year</th>\n      <th>How many electronic devices do you use?</th>\n      <th>What is your recent latest CGPA ?</th>\n      <th>Is there an increase in your CGPA?</th>\n      <th>Average hour you spent using electronic devices for academic purposes in a day (hours).</th>\n      <th>Gender</th>\n      <th>Which department</th>\n      <th>What is the purpose of buying the device?</th>\n    </tr>\n  </thead>\n  <tbody>\n    <tr>\n      <th>0</th>\n      <td>1658226394.0</td>\n      <td>4</td>\n      <td>2</td>\n      <td>1</td>\n      <td>1</td>\n      <td>4-6</td>\n      <td>0</td>\n      <td>7</td>\n      <td>5</td>\n    </tr>\n    <tr>\n      <th>1</th>\n      <td>1658362766.0</td>\n      <td>4</td>\n      <td>4</td>\n      <td>1</td>\n      <td>2</td>\n      <td>1-3</td>\n      <td>1</td>\n      <td>2</td>\n      <td>4</td>\n    </tr>\n    <tr>\n      <th>2</th>\n      <td>1658422502.0</td>\n      <td>3</td>\n      <td>3</td>\n      <td>2</td>\n      <td>1</td>\n      <td>4-6</td>\n      <td>1</td>\n      <td>7</td>\n      <td>3</td>\n    </tr>\n    <tr>\n      <th>3</th>\n      <td>1661155290.0</td>\n      <td>3</td>\n      <td>3</td>\n      <td>3</td>\n      <td>2</td>\n      <td>1-3</td>\n      <td>0</td>\n      <td>5</td>\n      <td>4</td>\n    </tr>\n    <tr>\n      <th>4</th>\n      <td>1661155325.0</td>\n      <td>2</td>\n      <td>2</td>\n      <td>1</td>\n      <td>1</td>\n      <td>4-6</td>\n      <td>1</td>\n      <td>1</td>\n      <td>1</td>\n    </tr>\n  </tbody>\n</table>\n</div>"
     },
     "execution_count": 18,
     "metadata": {},
     "output_type": "execute_result"
    }
   ],
   "source": [
    "data.head()"
   ]
  },
  {
   "cell_type": "code",
   "execution_count": 19,
   "id": "9ec3d799",
   "metadata": {
    "execution": {
     "iopub.execute_input": "2022-09-23T12:41:01.818975Z",
     "iopub.status.busy": "2022-09-23T12:41:01.818533Z",
     "iopub.status.idle": "2022-09-23T12:41:01.826671Z",
     "shell.execute_reply": "2022-09-23T12:41:01.825767Z"
    },
    "papermill": {
     "duration": 0.023249,
     "end_time": "2022-09-23T12:41:01.829023",
     "exception": false,
     "start_time": "2022-09-23T12:41:01.805774",
     "status": "completed"
    },
    "tags": []
   },
   "outputs": [
    {
     "data": {
      "text/plain": "7-9      9\n10-12    8\n4-6      8\n1-3      4\n13-15    1\nName: Average hour you spent using electronic devices for academic purposes in a day (hours)., dtype: int64"
     },
     "execution_count": 19,
     "metadata": {},
     "output_type": "execute_result"
    }
   ],
   "source": [
    "data[data.columns[5]].value_counts()"
   ]
  },
  {
   "cell_type": "code",
   "execution_count": 20,
   "id": "7382ea53",
   "metadata": {
    "execution": {
     "iopub.execute_input": "2022-09-23T12:41:01.853910Z",
     "iopub.status.busy": "2022-09-23T12:41:01.853446Z",
     "iopub.status.idle": "2022-09-23T12:41:01.865969Z",
     "shell.execute_reply": "2022-09-23T12:41:01.864617Z"
    },
    "papermill": {
     "duration": 0.028105,
     "end_time": "2022-09-23T12:41:01.868604",
     "exception": false,
     "start_time": "2022-09-23T12:41:01.840499",
     "status": "completed"
    },
    "tags": []
   },
   "outputs": [],
   "source": [
    "data[data.columns[5]]=data[data.columns[5]].str.replace(r\"7-9\",\"1\")\n",
    "data[data.columns[5]]=data[data.columns[5]].str.replace(r\"4-6\",\"2\")\n",
    "data[data.columns[5]]=data[data.columns[5]].str.replace(r\"10-12\",\"3\")\n",
    "data[data.columns[5]]=data[data.columns[5]].str.replace(r\"1-3\",\"4\")\n",
    "data[data.columns[5]]=data[data.columns[5]].str.replace(r\"13-15\",\"5\")"
   ]
  },
  {
   "cell_type": "code",
   "execution_count": 21,
   "id": "ba4e1647",
   "metadata": {
    "execution": {
     "iopub.execute_input": "2022-09-23T12:41:01.893609Z",
     "iopub.status.busy": "2022-09-23T12:41:01.893171Z",
     "iopub.status.idle": "2022-09-23T12:41:01.908925Z",
     "shell.execute_reply": "2022-09-23T12:41:01.907387Z"
    },
    "papermill": {
     "duration": 0.030926,
     "end_time": "2022-09-23T12:41:01.911110",
     "exception": false,
     "start_time": "2022-09-23T12:41:01.880184",
     "status": "completed"
    },
    "tags": []
   },
   "outputs": [
    {
     "data": {
      "text/plain": "      Timestamp Your study year  How many electronic devices do you use?  \\\n0  1658226394.0               4                                        2   \n1  1658362766.0               4                                        4   \n2  1658422502.0               3                                        3   \n3  1661155290.0               3                                        3   \n4  1661155325.0               2                                        2   \n\n  What is your recent latest CGPA ? Is there an increase in your CGPA?  \\\n0                                 1                                  1   \n1                                 1                                  2   \n2                                 2                                  1   \n3                                 3                                  2   \n4                                 1                                  1   \n\n  Average hour you spent using electronic devices for academic purposes in a day (hours).  \\\n0                                                  2                                        \n1                                                  4                                        \n2                                                  2                                        \n3                                                  4                                        \n4                                                  2                                        \n\n   Gender  Which department  What is the purpose of buying the device?  \n0       0                 7                                          5  \n1       1                 2                                          4  \n2       1                 7                                          3  \n3       0                 5                                          4  \n4       1                 1                                          1  ",
      "text/html": "<div>\n<style scoped>\n    .dataframe tbody tr th:only-of-type {\n        vertical-align: middle;\n    }\n\n    .dataframe tbody tr th {\n        vertical-align: top;\n    }\n\n    .dataframe thead th {\n        text-align: right;\n    }\n</style>\n<table border=\"1\" class=\"dataframe\">\n  <thead>\n    <tr style=\"text-align: right;\">\n      <th></th>\n      <th>Timestamp</th>\n      <th>Your study year</th>\n      <th>How many electronic devices do you use?</th>\n      <th>What is your recent latest CGPA ?</th>\n      <th>Is there an increase in your CGPA?</th>\n      <th>Average hour you spent using electronic devices for academic purposes in a day (hours).</th>\n      <th>Gender</th>\n      <th>Which department</th>\n      <th>What is the purpose of buying the device?</th>\n    </tr>\n  </thead>\n  <tbody>\n    <tr>\n      <th>0</th>\n      <td>1658226394.0</td>\n      <td>4</td>\n      <td>2</td>\n      <td>1</td>\n      <td>1</td>\n      <td>2</td>\n      <td>0</td>\n      <td>7</td>\n      <td>5</td>\n    </tr>\n    <tr>\n      <th>1</th>\n      <td>1658362766.0</td>\n      <td>4</td>\n      <td>4</td>\n      <td>1</td>\n      <td>2</td>\n      <td>4</td>\n      <td>1</td>\n      <td>2</td>\n      <td>4</td>\n    </tr>\n    <tr>\n      <th>2</th>\n      <td>1658422502.0</td>\n      <td>3</td>\n      <td>3</td>\n      <td>2</td>\n      <td>1</td>\n      <td>2</td>\n      <td>1</td>\n      <td>7</td>\n      <td>3</td>\n    </tr>\n    <tr>\n      <th>3</th>\n      <td>1661155290.0</td>\n      <td>3</td>\n      <td>3</td>\n      <td>3</td>\n      <td>2</td>\n      <td>4</td>\n      <td>0</td>\n      <td>5</td>\n      <td>4</td>\n    </tr>\n    <tr>\n      <th>4</th>\n      <td>1661155325.0</td>\n      <td>2</td>\n      <td>2</td>\n      <td>1</td>\n      <td>1</td>\n      <td>2</td>\n      <td>1</td>\n      <td>1</td>\n      <td>1</td>\n    </tr>\n  </tbody>\n</table>\n</div>"
     },
     "execution_count": 21,
     "metadata": {},
     "output_type": "execute_result"
    }
   ],
   "source": [
    "data.head()"
   ]
  },
  {
   "cell_type": "code",
   "execution_count": 22,
   "id": "4554cc58",
   "metadata": {
    "execution": {
     "iopub.execute_input": "2022-09-23T12:41:01.935719Z",
     "iopub.status.busy": "2022-09-23T12:41:01.934927Z",
     "iopub.status.idle": "2022-09-23T12:41:01.942224Z",
     "shell.execute_reply": "2022-09-23T12:41:01.941300Z"
    },
    "papermill": {
     "duration": 0.021585,
     "end_time": "2022-09-23T12:41:01.944403",
     "exception": false,
     "start_time": "2022-09-23T12:41:01.922818",
     "status": "completed"
    },
    "tags": []
   },
   "outputs": [],
   "source": [
    "data = data[[data.columns[0],data.columns[1],data.columns[2],data.columns[3],data.columns[5],data.columns[6],data.columns[7],data.columns[8],data.columns[4]]]"
   ]
  },
  {
   "cell_type": "code",
   "execution_count": 23,
   "id": "904b522d",
   "metadata": {
    "execution": {
     "iopub.execute_input": "2022-09-23T12:41:01.968440Z",
     "iopub.status.busy": "2022-09-23T12:41:01.967248Z",
     "iopub.status.idle": "2022-09-23T12:41:01.982108Z",
     "shell.execute_reply": "2022-09-23T12:41:01.980984Z"
    },
    "papermill": {
     "duration": 0.029229,
     "end_time": "2022-09-23T12:41:01.984320",
     "exception": false,
     "start_time": "2022-09-23T12:41:01.955091",
     "status": "completed"
    },
    "tags": []
   },
   "outputs": [
    {
     "data": {
      "text/plain": "      Timestamp Your study year  How many electronic devices do you use?  \\\n0  1658226394.0               4                                        2   \n1  1658362766.0               4                                        4   \n2  1658422502.0               3                                        3   \n3  1661155290.0               3                                        3   \n4  1661155325.0               2                                        2   \n\n  What is your recent latest CGPA ?  \\\n0                                 1   \n1                                 1   \n2                                 2   \n3                                 3   \n4                                 1   \n\n  Average hour you spent using electronic devices for academic purposes in a day (hours).  \\\n0                                                  2                                        \n1                                                  4                                        \n2                                                  2                                        \n3                                                  4                                        \n4                                                  2                                        \n\n   Gender  Which department  What is the purpose of buying the device?  \\\n0       0                 7                                          5   \n1       1                 2                                          4   \n2       1                 7                                          3   \n3       0                 5                                          4   \n4       1                 1                                          1   \n\n  Is there an increase in your CGPA?  \n0                                  1  \n1                                  2  \n2                                  1  \n3                                  2  \n4                                  1  ",
      "text/html": "<div>\n<style scoped>\n    .dataframe tbody tr th:only-of-type {\n        vertical-align: middle;\n    }\n\n    .dataframe tbody tr th {\n        vertical-align: top;\n    }\n\n    .dataframe thead th {\n        text-align: right;\n    }\n</style>\n<table border=\"1\" class=\"dataframe\">\n  <thead>\n    <tr style=\"text-align: right;\">\n      <th></th>\n      <th>Timestamp</th>\n      <th>Your study year</th>\n      <th>How many electronic devices do you use?</th>\n      <th>What is your recent latest CGPA ?</th>\n      <th>Average hour you spent using electronic devices for academic purposes in a day (hours).</th>\n      <th>Gender</th>\n      <th>Which department</th>\n      <th>What is the purpose of buying the device?</th>\n      <th>Is there an increase in your CGPA?</th>\n    </tr>\n  </thead>\n  <tbody>\n    <tr>\n      <th>0</th>\n      <td>1658226394.0</td>\n      <td>4</td>\n      <td>2</td>\n      <td>1</td>\n      <td>2</td>\n      <td>0</td>\n      <td>7</td>\n      <td>5</td>\n      <td>1</td>\n    </tr>\n    <tr>\n      <th>1</th>\n      <td>1658362766.0</td>\n      <td>4</td>\n      <td>4</td>\n      <td>1</td>\n      <td>4</td>\n      <td>1</td>\n      <td>2</td>\n      <td>4</td>\n      <td>2</td>\n    </tr>\n    <tr>\n      <th>2</th>\n      <td>1658422502.0</td>\n      <td>3</td>\n      <td>3</td>\n      <td>2</td>\n      <td>2</td>\n      <td>1</td>\n      <td>7</td>\n      <td>3</td>\n      <td>1</td>\n    </tr>\n    <tr>\n      <th>3</th>\n      <td>1661155290.0</td>\n      <td>3</td>\n      <td>3</td>\n      <td>3</td>\n      <td>4</td>\n      <td>0</td>\n      <td>5</td>\n      <td>4</td>\n      <td>2</td>\n    </tr>\n    <tr>\n      <th>4</th>\n      <td>1661155325.0</td>\n      <td>2</td>\n      <td>2</td>\n      <td>1</td>\n      <td>2</td>\n      <td>1</td>\n      <td>1</td>\n      <td>1</td>\n      <td>1</td>\n    </tr>\n  </tbody>\n</table>\n</div>"
     },
     "execution_count": 23,
     "metadata": {},
     "output_type": "execute_result"
    }
   ],
   "source": [
    "data.head()"
   ]
  },
  {
   "cell_type": "code",
   "execution_count": 23,
   "id": "17f66997",
   "metadata": {
    "papermill": {
     "duration": 0.010994,
     "end_time": "2022-09-23T12:41:02.006711",
     "exception": false,
     "start_time": "2022-09-23T12:41:01.995717",
     "status": "completed"
    },
    "tags": []
   },
   "outputs": [],
   "source": []
  },
  {
   "cell_type": "code",
   "execution_count": 24,
   "id": "8bd5ca5c",
   "metadata": {
    "execution": {
     "iopub.execute_input": "2022-09-23T12:41:02.031545Z",
     "iopub.status.busy": "2022-09-23T12:41:02.031083Z",
     "iopub.status.idle": "2022-09-23T12:41:02.044474Z",
     "shell.execute_reply": "2022-09-23T12:41:02.042975Z"
    },
    "papermill": {
     "duration": 0.028543,
     "end_time": "2022-09-23T12:41:02.046997",
     "exception": false,
     "start_time": "2022-09-23T12:41:02.018454",
     "status": "completed"
    },
    "tags": []
   },
   "outputs": [
    {
     "data": {
      "text/plain": "<bound method NDFrame.describe of        Timestamp Your study year  How many electronic devices do you use?  \\\n0   1658226394.0               4                                        2   \n1   1658362766.0               4                                        4   \n2   1658422502.0               3                                        3   \n3   1661155290.0               3                                        3   \n4   1661155325.0               2                                        2   \n5   1661158927.0               1                                        2   \n6   1661159123.0               4                                        4   \n7   1661159171.0               4                                        3   \n8   1661159291.0               4                                        2   \n9   1661159357.0               4                                        2   \n10  1661159511.0               1                                        2   \n11  1661159560.0               2                                        3   \n12  1661159654.0               3                                        2   \n13  1661448200.0               1                                        2   \n14  1661448261.0               3                                        4   \n15  1661562865.0               4                                        3   \n16  1661562901.0               4                                        2   \n17  1661562959.0               4                                        2   \n18  1661562994.0               1                                        3   \n19  1661563021.0               2                                        1   \n20  1663285696.0               1                                        2   \n21  1663285724.0               2                                        3   \n22  1663285763.0               3                                        2   \n23  1663285796.0               2                                        2   \n24  1663285842.0               4                                        2   \n25  1663287063.0               3                                        3   \n26  1663287195.0               4                                        2   \n27  1663287235.0               1                                        2   \n28  1663287290.0               4                                        4   \n29  1663287334.0               4                                        4   \n\n   What is your recent latest CGPA ?  \\\n0                                  1   \n1                                  1   \n2                                  2   \n3                                  3   \n4                                  1   \n5                                  2   \n6                                  4   \n7                                  3   \n8                                  1   \n9                                  2   \n10                                 3   \n11                                 1   \n12                                 2   \n13                                 4   \n14                                 3   \n15                                 1   \n16                                 2   \n17                                 1   \n18                                 1   \n19                                 1   \n20                                 1   \n21                                 1   \n22                                 2   \n23                                 1   \n24                                 2   \n25                                 3   \n26                                 2   \n27                                 1   \n28                                 1   \n29                                 2   \n\n   Average hour you spent using electronic devices for academic purposes in a day (hours).  \\\n0                                                   2                                        \n1                                                   4                                        \n2                                                   2                                        \n3                                                   4                                        \n4                                                   2                                        \n5                                                   4                                        \n6                                                   1                                        \n7                                                   3                                        \n8                                                   3                                        \n9                                                   5                                        \n10                                                  1                                        \n11                                                  3                                        \n12                                                  3                                        \n13                                                  3                                        \n14                                                  2                                        \n15                                                  1                                        \n16                                                  3                                        \n17                                                  1                                        \n18                                                  3                                        \n19                                                  2                                        \n20                                                  2                                        \n21                                                  1                                        \n22                                                  2                                        \n23                                                  1                                        \n24                                                  4                                        \n25                                                  1                                        \n26                                                  3                                        \n27                                                  1                                        \n28                                                  1                                        \n29                                                  2                                        \n\n    Gender  Which department  What is the purpose of buying the device?  \\\n0        0                 7                                          5   \n1        1                 2                                          4   \n2        1                 7                                          3   \n3        0                 5                                          4   \n4        1                 1                                          1   \n5        1                 3                                          1   \n6        0                 2                                          1   \n7        1                 7                                          9   \n8        1                 4                                          1   \n9        1                 6                                          3   \n10       1                 5                                          4   \n11       1                 0                                          1   \n12       1                 1                                          5   \n13       1                 3                                          3   \n14       1                 3                                          3   \n15       1                 2                                          2   \n16       1                 4                                          3   \n17       1                 6                                          4   \n18       0                 5                                          4   \n19       0                 2                                          3   \n20       0                 7                                          5   \n21       0                 6                                          6   \n22       1                 4                                          7   \n23       1                 2                                          4   \n24       1                 5                                          8   \n25       0                 7                                          8   \n26       0                 1                                          0   \n27       1                 0                                          4   \n28       0                 3                                          3   \n29       0                 2                                          2   \n\n   Is there an increase in your CGPA?  \n0                                   1  \n1                                   2  \n2                                   1  \n3                                   2  \n4                                   1  \n5                                   0  \n6                                   2  \n7                                   2  \n8                                   0  \n9                                   1  \n10                                  0  \n11                                  1  \n12                                  1  \n13                                  2  \n14                                  1  \n15                                  0  \n16                                  1  \n17                                  0  \n18                                  0  \n19                                  1  \n20                                  1  \n21                                  2  \n22                                  0  \n23                                  2  \n24                                  1  \n25                                  0  \n26                                  0  \n27                                  0  \n28                                  0  \n29                                  2  >"
     },
     "execution_count": 24,
     "metadata": {},
     "output_type": "execute_result"
    }
   ],
   "source": [
    "data.describe"
   ]
  },
  {
   "cell_type": "code",
   "execution_count": 25,
   "id": "454d0b5a",
   "metadata": {
    "execution": {
     "iopub.execute_input": "2022-09-23T12:41:02.073211Z",
     "iopub.status.busy": "2022-09-23T12:41:02.072763Z",
     "iopub.status.idle": "2022-09-23T12:41:02.086648Z",
     "shell.execute_reply": "2022-09-23T12:41:02.085391Z"
    },
    "papermill": {
     "duration": 0.03015,
     "end_time": "2022-09-23T12:41:02.089018",
     "exception": false,
     "start_time": "2022-09-23T12:41:02.058868",
     "status": "completed"
    },
    "tags": []
   },
   "outputs": [
    {
     "data": {
      "text/plain": "<bound method DataFrame.info of        Timestamp Your study year  How many electronic devices do you use?  \\\n0   1658226394.0               4                                        2   \n1   1658362766.0               4                                        4   \n2   1658422502.0               3                                        3   \n3   1661155290.0               3                                        3   \n4   1661155325.0               2                                        2   \n5   1661158927.0               1                                        2   \n6   1661159123.0               4                                        4   \n7   1661159171.0               4                                        3   \n8   1661159291.0               4                                        2   \n9   1661159357.0               4                                        2   \n10  1661159511.0               1                                        2   \n11  1661159560.0               2                                        3   \n12  1661159654.0               3                                        2   \n13  1661448200.0               1                                        2   \n14  1661448261.0               3                                        4   \n15  1661562865.0               4                                        3   \n16  1661562901.0               4                                        2   \n17  1661562959.0               4                                        2   \n18  1661562994.0               1                                        3   \n19  1661563021.0               2                                        1   \n20  1663285696.0               1                                        2   \n21  1663285724.0               2                                        3   \n22  1663285763.0               3                                        2   \n23  1663285796.0               2                                        2   \n24  1663285842.0               4                                        2   \n25  1663287063.0               3                                        3   \n26  1663287195.0               4                                        2   \n27  1663287235.0               1                                        2   \n28  1663287290.0               4                                        4   \n29  1663287334.0               4                                        4   \n\n   What is your recent latest CGPA ?  \\\n0                                  1   \n1                                  1   \n2                                  2   \n3                                  3   \n4                                  1   \n5                                  2   \n6                                  4   \n7                                  3   \n8                                  1   \n9                                  2   \n10                                 3   \n11                                 1   \n12                                 2   \n13                                 4   \n14                                 3   \n15                                 1   \n16                                 2   \n17                                 1   \n18                                 1   \n19                                 1   \n20                                 1   \n21                                 1   \n22                                 2   \n23                                 1   \n24                                 2   \n25                                 3   \n26                                 2   \n27                                 1   \n28                                 1   \n29                                 2   \n\n   Average hour you spent using electronic devices for academic purposes in a day (hours).  \\\n0                                                   2                                        \n1                                                   4                                        \n2                                                   2                                        \n3                                                   4                                        \n4                                                   2                                        \n5                                                   4                                        \n6                                                   1                                        \n7                                                   3                                        \n8                                                   3                                        \n9                                                   5                                        \n10                                                  1                                        \n11                                                  3                                        \n12                                                  3                                        \n13                                                  3                                        \n14                                                  2                                        \n15                                                  1                                        \n16                                                  3                                        \n17                                                  1                                        \n18                                                  3                                        \n19                                                  2                                        \n20                                                  2                                        \n21                                                  1                                        \n22                                                  2                                        \n23                                                  1                                        \n24                                                  4                                        \n25                                                  1                                        \n26                                                  3                                        \n27                                                  1                                        \n28                                                  1                                        \n29                                                  2                                        \n\n    Gender  Which department  What is the purpose of buying the device?  \\\n0        0                 7                                          5   \n1        1                 2                                          4   \n2        1                 7                                          3   \n3        0                 5                                          4   \n4        1                 1                                          1   \n5        1                 3                                          1   \n6        0                 2                                          1   \n7        1                 7                                          9   \n8        1                 4                                          1   \n9        1                 6                                          3   \n10       1                 5                                          4   \n11       1                 0                                          1   \n12       1                 1                                          5   \n13       1                 3                                          3   \n14       1                 3                                          3   \n15       1                 2                                          2   \n16       1                 4                                          3   \n17       1                 6                                          4   \n18       0                 5                                          4   \n19       0                 2                                          3   \n20       0                 7                                          5   \n21       0                 6                                          6   \n22       1                 4                                          7   \n23       1                 2                                          4   \n24       1                 5                                          8   \n25       0                 7                                          8   \n26       0                 1                                          0   \n27       1                 0                                          4   \n28       0                 3                                          3   \n29       0                 2                                          2   \n\n   Is there an increase in your CGPA?  \n0                                   1  \n1                                   2  \n2                                   1  \n3                                   2  \n4                                   1  \n5                                   0  \n6                                   2  \n7                                   2  \n8                                   0  \n9                                   1  \n10                                  0  \n11                                  1  \n12                                  1  \n13                                  2  \n14                                  1  \n15                                  0  \n16                                  1  \n17                                  0  \n18                                  0  \n19                                  1  \n20                                  1  \n21                                  2  \n22                                  0  \n23                                  2  \n24                                  1  \n25                                  0  \n26                                  0  \n27                                  0  \n28                                  0  \n29                                  2  >"
     },
     "execution_count": 25,
     "metadata": {},
     "output_type": "execute_result"
    }
   ],
   "source": [
    "data.info"
   ]
  },
  {
   "cell_type": "code",
   "execution_count": 26,
   "id": "b7cf683f",
   "metadata": {
    "execution": {
     "iopub.execute_input": "2022-09-23T12:41:02.114812Z",
     "iopub.status.busy": "2022-09-23T12:41:02.114391Z",
     "iopub.status.idle": "2022-09-23T12:41:02.129484Z",
     "shell.execute_reply": "2022-09-23T12:41:02.128570Z"
    },
    "papermill": {
     "duration": 0.030347,
     "end_time": "2022-09-23T12:41:02.131564",
     "exception": false,
     "start_time": "2022-09-23T12:41:02.101217",
     "status": "completed"
    },
    "tags": []
   },
   "outputs": [
    {
     "data": {
      "text/plain": "                                           How many electronic devices do you use?  \\\nHow many electronic devices do you use?                                   1.000000   \nGender                                                                   -0.238186   \nWhich department                                                         -0.046409   \nWhat is the purpose of buying the device?                                -0.054481   \n\n                                             Gender  Which department  \\\nHow many electronic devices do you use?   -0.238186         -0.046409   \nGender                                     1.000000         -0.186126   \nWhich department                          -0.186126          1.000000   \nWhat is the purpose of buying the device? -0.009397          0.585968   \n\n                                           What is the purpose of buying the device?  \nHow many electronic devices do you use?                                    -0.054481  \nGender                                                                     -0.009397  \nWhich department                                                            0.585968  \nWhat is the purpose of buying the device?                                   1.000000  ",
      "text/html": "<div>\n<style scoped>\n    .dataframe tbody tr th:only-of-type {\n        vertical-align: middle;\n    }\n\n    .dataframe tbody tr th {\n        vertical-align: top;\n    }\n\n    .dataframe thead th {\n        text-align: right;\n    }\n</style>\n<table border=\"1\" class=\"dataframe\">\n  <thead>\n    <tr style=\"text-align: right;\">\n      <th></th>\n      <th>How many electronic devices do you use?</th>\n      <th>Gender</th>\n      <th>Which department</th>\n      <th>What is the purpose of buying the device?</th>\n    </tr>\n  </thead>\n  <tbody>\n    <tr>\n      <th>How many electronic devices do you use?</th>\n      <td>1.000000</td>\n      <td>-0.238186</td>\n      <td>-0.046409</td>\n      <td>-0.054481</td>\n    </tr>\n    <tr>\n      <th>Gender</th>\n      <td>-0.238186</td>\n      <td>1.000000</td>\n      <td>-0.186126</td>\n      <td>-0.009397</td>\n    </tr>\n    <tr>\n      <th>Which department</th>\n      <td>-0.046409</td>\n      <td>-0.186126</td>\n      <td>1.000000</td>\n      <td>0.585968</td>\n    </tr>\n    <tr>\n      <th>What is the purpose of buying the device?</th>\n      <td>-0.054481</td>\n      <td>-0.009397</td>\n      <td>0.585968</td>\n      <td>1.000000</td>\n    </tr>\n  </tbody>\n</table>\n</div>"
     },
     "execution_count": 26,
     "metadata": {},
     "output_type": "execute_result"
    }
   ],
   "source": [
    "data.corr()"
   ]
  },
  {
   "cell_type": "code",
   "execution_count": 27,
   "id": "bf4b04af",
   "metadata": {
    "execution": {
     "iopub.execute_input": "2022-09-23T12:41:02.158167Z",
     "iopub.status.busy": "2022-09-23T12:41:02.157755Z",
     "iopub.status.idle": "2022-09-23T12:41:02.174244Z",
     "shell.execute_reply": "2022-09-23T12:41:02.173025Z"
    },
    "papermill": {
     "duration": 0.032726,
     "end_time": "2022-09-23T12:41:02.176671",
     "exception": false,
     "start_time": "2022-09-23T12:41:02.143945",
     "status": "completed"
    },
    "tags": []
   },
   "outputs": [
    {
     "data": {
      "text/plain": "      Timestamp Your study year  How many electronic devices do you use?  \\\n0  1658226394.0               4                                        2   \n1  1658362766.0               4                                        4   \n2  1658422502.0               3                                        3   \n3  1661155290.0               3                                        3   \n4  1661155325.0               2                                        2   \n\n  What is your recent latest CGPA ?  \\\n0                                 1   \n1                                 1   \n2                                 2   \n3                                 3   \n4                                 1   \n\n  Average hour you spent using electronic devices for academic purposes in a day (hours).  \\\n0                                                  2                                        \n1                                                  4                                        \n2                                                  2                                        \n3                                                  4                                        \n4                                                  2                                        \n\n   Gender  Which department  What is the purpose of buying the device?  \n0       0                 7                                          5  \n1       1                 2                                          4  \n2       1                 7                                          3  \n3       0                 5                                          4  \n4       1                 1                                          1  ",
      "text/html": "<div>\n<style scoped>\n    .dataframe tbody tr th:only-of-type {\n        vertical-align: middle;\n    }\n\n    .dataframe tbody tr th {\n        vertical-align: top;\n    }\n\n    .dataframe thead th {\n        text-align: right;\n    }\n</style>\n<table border=\"1\" class=\"dataframe\">\n  <thead>\n    <tr style=\"text-align: right;\">\n      <th></th>\n      <th>Timestamp</th>\n      <th>Your study year</th>\n      <th>How many electronic devices do you use?</th>\n      <th>What is your recent latest CGPA ?</th>\n      <th>Average hour you spent using electronic devices for academic purposes in a day (hours).</th>\n      <th>Gender</th>\n      <th>Which department</th>\n      <th>What is the purpose of buying the device?</th>\n    </tr>\n  </thead>\n  <tbody>\n    <tr>\n      <th>0</th>\n      <td>1658226394.0</td>\n      <td>4</td>\n      <td>2</td>\n      <td>1</td>\n      <td>2</td>\n      <td>0</td>\n      <td>7</td>\n      <td>5</td>\n    </tr>\n    <tr>\n      <th>1</th>\n      <td>1658362766.0</td>\n      <td>4</td>\n      <td>4</td>\n      <td>1</td>\n      <td>4</td>\n      <td>1</td>\n      <td>2</td>\n      <td>4</td>\n    </tr>\n    <tr>\n      <th>2</th>\n      <td>1658422502.0</td>\n      <td>3</td>\n      <td>3</td>\n      <td>2</td>\n      <td>2</td>\n      <td>1</td>\n      <td>7</td>\n      <td>3</td>\n    </tr>\n    <tr>\n      <th>3</th>\n      <td>1661155290.0</td>\n      <td>3</td>\n      <td>3</td>\n      <td>3</td>\n      <td>4</td>\n      <td>0</td>\n      <td>5</td>\n      <td>4</td>\n    </tr>\n    <tr>\n      <th>4</th>\n      <td>1661155325.0</td>\n      <td>2</td>\n      <td>2</td>\n      <td>1</td>\n      <td>2</td>\n      <td>1</td>\n      <td>1</td>\n      <td>1</td>\n    </tr>\n  </tbody>\n</table>\n</div>"
     },
     "execution_count": 27,
     "metadata": {},
     "output_type": "execute_result"
    }
   ],
   "source": [
    "X=data.iloc[:,:-1]\n",
    "X.head()"
   ]
  },
  {
   "cell_type": "code",
   "execution_count": 28,
   "id": "96e6aa71",
   "metadata": {
    "execution": {
     "iopub.execute_input": "2022-09-23T12:41:02.203497Z",
     "iopub.status.busy": "2022-09-23T12:41:02.203068Z",
     "iopub.status.idle": "2022-09-23T12:41:02.214075Z",
     "shell.execute_reply": "2022-09-23T12:41:02.212735Z"
    },
    "papermill": {
     "duration": 0.027438,
     "end_time": "2022-09-23T12:41:02.216629",
     "exception": false,
     "start_time": "2022-09-23T12:41:02.189191",
     "status": "completed"
    },
    "tags": []
   },
   "outputs": [
    {
     "data": {
      "text/plain": "  Is there an increase in your CGPA?\n0                                  1\n1                                  2\n2                                  1\n3                                  2\n4                                  1",
      "text/html": "<div>\n<style scoped>\n    .dataframe tbody tr th:only-of-type {\n        vertical-align: middle;\n    }\n\n    .dataframe tbody tr th {\n        vertical-align: top;\n    }\n\n    .dataframe thead th {\n        text-align: right;\n    }\n</style>\n<table border=\"1\" class=\"dataframe\">\n  <thead>\n    <tr style=\"text-align: right;\">\n      <th></th>\n      <th>Is there an increase in your CGPA?</th>\n    </tr>\n  </thead>\n  <tbody>\n    <tr>\n      <th>0</th>\n      <td>1</td>\n    </tr>\n    <tr>\n      <th>1</th>\n      <td>2</td>\n    </tr>\n    <tr>\n      <th>2</th>\n      <td>1</td>\n    </tr>\n    <tr>\n      <th>3</th>\n      <td>2</td>\n    </tr>\n    <tr>\n      <th>4</th>\n      <td>1</td>\n    </tr>\n  </tbody>\n</table>\n</div>"
     },
     "execution_count": 28,
     "metadata": {},
     "output_type": "execute_result"
    }
   ],
   "source": [
    "y=data.iloc[:,-1:]\n",
    "y.head()"
   ]
  },
  {
   "cell_type": "code",
   "execution_count": 29,
   "id": "7febdb72",
   "metadata": {
    "execution": {
     "iopub.execute_input": "2022-09-23T12:41:02.245557Z",
     "iopub.status.busy": "2022-09-23T12:41:02.245109Z",
     "iopub.status.idle": "2022-09-23T12:41:02.509435Z",
     "shell.execute_reply": "2022-09-23T12:41:02.507870Z"
    },
    "papermill": {
     "duration": 0.282215,
     "end_time": "2022-09-23T12:41:02.512157",
     "exception": false,
     "start_time": "2022-09-23T12:41:02.229942",
     "status": "completed"
    },
    "tags": []
   },
   "outputs": [
    {
     "name": "stdout",
     "output_type": "stream",
     "text": [
      "1.0 1.0\n"
     ]
    }
   ],
   "source": [
    "from sklearn.model_selection import train_test_split\n",
    "X_train,X_test,y_train,y_test=train_test_split(X,y,test_size=0.33,random_state=0)\n",
    "from sklearn.tree import DecisionTreeClassifier\n",
    "model=DecisionTreeClassifier()\n",
    "model.fit(X,y)\n",
    "from sklearn.metrics import accuracy_score\n",
    "ac_train=model.score(X_train,y_train)\n",
    "ac_test=model.score(X_test,y_test)\n",
    "print(ac_train,ac_test)"
   ]
  },
  {
   "cell_type": "markdown",
   "id": "c114d678",
   "metadata": {
    "papermill": {
     "duration": 0.01364,
     "end_time": "2022-09-23T12:41:02.538537",
     "exception": false,
     "start_time": "2022-09-23T12:41:02.524897",
     "status": "completed"
    },
    "tags": []
   },
   "source": [
    "let's look wehther there is a change in CGPA or not,if date and time is 7/19/2022 12:26:34 ,your study year is 4,number of your devices is 2,your latest CGPA is between 3.00 and 3.49 ,your Average hour you spent using electronic devices for academic purposes in a day (hours) is 2,your gender women,your department is Information Technology and purpose of buying the device is studies,entertainment and phonecalls "
   ]
  },
  {
   "cell_type": "code",
   "execution_count": 30,
   "id": "8f2087a3",
   "metadata": {
    "execution": {
     "iopub.execute_input": "2022-09-23T12:41:02.567622Z",
     "iopub.status.busy": "2022-09-23T12:41:02.567196Z",
     "iopub.status.idle": "2022-09-23T12:41:02.579540Z",
     "shell.execute_reply": "2022-09-23T12:41:02.577957Z"
    },
    "papermill": {
     "duration": 0.030397,
     "end_time": "2022-09-23T12:41:02.582721",
     "exception": false,
     "start_time": "2022-09-23T12:41:02.552324",
     "status": "completed"
    },
    "tags": []
   },
   "outputs": [
    {
     "data": {
      "text/plain": "array(['1'], dtype=object)"
     },
     "execution_count": 30,
     "metadata": {},
     "output_type": "execute_result"
    }
   ],
   "source": [
    "trial=np.array([16582333594,4,2,1,2,0,7,5])\n",
    "prediction=model.predict([trial])\n",
    "prediction"
   ]
  },
  {
   "cell_type": "markdown",
   "id": "8801a060",
   "metadata": {
    "papermill": {
     "duration": 0.013248,
     "end_time": "2022-09-23T12:41:02.610663",
     "exception": false,
     "start_time": "2022-09-23T12:41:02.597415",
     "status": "completed"
    },
    "tags": []
   },
   "source": [
    "yes result is 1 as in data :)"
   ]
  },
  {
   "cell_type": "code",
   "execution_count": 30,
   "id": "d32fd791",
   "metadata": {
    "papermill": {
     "duration": 0.012454,
     "end_time": "2022-09-23T12:41:02.636003",
     "exception": false,
     "start_time": "2022-09-23T12:41:02.623549",
     "status": "completed"
    },
    "tags": []
   },
   "outputs": [],
   "source": []
  }
 ],
 "metadata": {
  "kernelspec": {
   "display_name": "Python 3",
   "language": "python",
   "name": "python3"
  },
  "language_info": {
   "codemirror_mode": {
    "name": "ipython",
    "version": 3
   },
   "file_extension": ".py",
   "mimetype": "text/x-python",
   "name": "python",
   "nbconvert_exporter": "python",
   "pygments_lexer": "ipython3",
   "version": "3.7.12"
  },
  "papermill": {
   "default_parameters": {},
   "duration": 13.333862,
   "end_time": "2022-09-23T12:41:03.371493",
   "environment_variables": {},
   "exception": null,
   "input_path": "__notebook__.ipynb",
   "output_path": "__notebook__.ipynb",
   "parameters": {},
   "start_time": "2022-09-23T12:40:50.037631",
   "version": "2.3.4"
  }
 },
 "nbformat": 4,
 "nbformat_minor": 5
}
